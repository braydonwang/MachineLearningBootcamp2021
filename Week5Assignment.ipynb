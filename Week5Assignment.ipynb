{
  "nbformat": 4,
  "nbformat_minor": 0,
  "metadata": {
    "colab": {
      "name": "Week5Assignment.ipynb",
      "provenance": [],
      "collapsed_sections": []
    },
    "kernelspec": {
      "name": "python3",
      "display_name": "Python 3"
    },
    "language_info": {
      "name": "python"
    }
  },
  "cells": [
    {
      "cell_type": "markdown",
      "metadata": {
        "id": "Qhm9ePUk3hgv"
      },
      "source": [
        "## Final Assignment\n",
        "\n",
        "- Welcome to the final assignment! Read all instructions very carefully\n",
        "- You will be tested on the following topics:\n",
        "  - Basic python programming(1 question)\n",
        "  - Pandas dataframe manipulation/filtering(3 questions)\n",
        "  - Plotting charts(1 question)\n",
        "  - A 10-question quiz\n",
        "\n",
        "****Important note: Only use the \"train.csv\" file unless specified otherwise****\n",
        "\n",
        " - Download the dataset located here: https://www.kaggle.com/c/home-data-for-ml-course/data?select=train.csv\n",
        "\n",
        "- Remember that you will only be able to download the dataset if you register for the competition\n",
        "\n",
        "- If you are unable to download the data from the kaggle website then check the \"Week 5\" folder inside the regular google drive link for this bootcamp\n",
        "\n",
        "- Each question will need you to store your answer in the variable names exactly as specified in each cell so please do not change that. If you answer needs you to define a function then make sure the name of the function is exactly as shown in the question\n",
        "\n",
        "- ****For some of the question you may have to refer to the \"data_description.txt\" file provided along with the dataset****\n",
        "\n",
        "- All the best and hope you enjoyed the course and learned a lot to kickstart your data science journey!"
      ]
    },
    {
      "cell_type": "markdown",
      "metadata": {
        "id": "w3KT_eChQXkQ"
      },
      "source": [
        "## This is a link to the Google Form which contains 10 questions for you to answer. \n",
        "# Submit the Google Form first before moving on to the rest of the assignment\n",
        "\n",
        "https://forms.gle/S78HX7yEZFsGyJZX9"
      ]
    },
    {
      "cell_type": "markdown",
      "metadata": {
        "id": "Sey3jxez5JKi"
      },
      "source": [
        "## Q1. You would need to write a function to print the average marks for a given student's name. There are two inputs to your function: a dictionary and the name of the student. The output should just be the average of all their marks rounded to two decimal places. Name your function student_avg_score(score_dictionary, student_name). Use the python \"round(result,2)\" function as it is to round your answers as this will effect your mark for this question\n",
        "\n",
        "Example:\n",
        "\n",
        "- ****Input****:\n",
        "          score_dictionary =  {\n",
        "          'Student_A' : [56,75,80],\n",
        "          'Student_B':[98,74,89],\n",
        "          'Student_C':[45,87,59]\n",
        "          }\n",
        "          student_name = 'Student_B'\n",
        "- ****Output****: 87\n",
        "\n",
        "- ****Explanation/Reason****: In the input score_dictionary, we can see that the 'Student_B' scored 98, 74 and 89 in their 3 subjects. Now the student_name was 'Student_B'. So we picked that particular student and then took the average of their scores and then rounded the answer to 2 decimal places\n",
        "\n",
        "- ****Verification****: Make a function call to your function using the syntax exactly as shown below <br> ```student_avg_score(score_dictionary = {'Student_A':[56,75,80],'Student_B':[98,74,89],'Student_C':[45,87,59]},student_name = 'Student_B')``` <br>and this should give you 87 for ***student_name='Student_B'***, 63.67 for ***student_name='Student_C'*** and 70.33 for ***student_name='Student_A'*** as the outputs\n"
      ]
    },
    {
      "cell_type": "code",
      "metadata": {
        "colab": {
          "base_uri": "https://localhost:8080/"
        },
        "id": "nUFPY5GiuZLz",
        "outputId": "8199c9bf-3c7a-4fd2-9930-d42e314f5180"
      },
      "source": [
        "##### CODE ######\n",
        "def student_avg_score(score_dictionary, student_name):\n",
        "  marks = score_dictionary.get(student_name)\n",
        "  average = sum(marks) / len(marks)\n",
        "  return round(average,2)\n",
        "\n",
        "student_avg_score(score_dictionary = {'Student_A':[56,75,80],'Student_B':[98,74,89],'Student_C':[45,87,59]},student_name = 'Student_B')\n",
        "\n",
        "##### CODE ######"
      ],
      "execution_count": null,
      "outputs": [
        {
          "output_type": "execute_result",
          "data": {
            "text/plain": [
              "87.0"
            ]
          },
          "metadata": {
            "tags": []
          },
          "execution_count": 5
        }
      ]
    },
    {
      "cell_type": "code",
      "metadata": {
        "id": "Hmed-GviN8wB"
      },
      "source": [
        "#Import the necessary libraries here\n",
        "import pandas as pd\n",
        "import matplotlib.pyplot as plt"
      ],
      "execution_count": null,
      "outputs": []
    },
    {
      "cell_type": "code",
      "metadata": {
        "id": "8aQZ3KLkPoYQ"
      },
      "source": [
        "#read the train.csv file here\n",
        "df = pd.read_csv(\"./train.csv\")"
      ],
      "execution_count": null,
      "outputs": []
    },
    {
      "cell_type": "markdown",
      "metadata": {
        "id": "05bmCVda_zpl"
      },
      "source": [
        "## Q2. Find the number of missing values for each column in your train.csv data\n",
        "\n",
        "- The output shold be in the form of a dictionary as shown below\n",
        "\n",
        "        { \n",
        "          1st Column_name_here: Number of missing values for the 1st Column,\n",
        "          2nd Column_name_here: Number of missing values for the 2nd Column,\n",
        "          3rd Column_name_here: Number of missing values for the 3rd Column\n",
        "          .\n",
        "          .\n",
        "          .\n",
        "        }\n",
        "  \n",
        "- Name your variable ****df_missing_values****\n"
      ]
    },
    {
      "cell_type": "code",
      "metadata": {
        "id": "pocGkD0DPt6X",
        "colab": {
          "base_uri": "https://localhost:8080/"
        },
        "outputId": "605e629c-1937-4bdb-ca55-7b6ec31e7f45"
      },
      "source": [
        "#report the number of null values per column as a dictionary\n",
        "#Your answer below. Store your dictionary in this variable\n",
        "\n",
        "df_missing_values = {}\n",
        "\n",
        "for col in df:\n",
        "  df_missing_values[col] = df[col].isnull().sum()\n",
        "\n",
        "df_missing_values"
      ],
      "execution_count": null,
      "outputs": [
        {
          "output_type": "execute_result",
          "data": {
            "text/plain": [
              "{'1stFlrSF': 0,\n",
              " '2ndFlrSF': 0,\n",
              " '3SsnPorch': 0,\n",
              " 'Alley': 1369,\n",
              " 'BedroomAbvGr': 0,\n",
              " 'BldgType': 0,\n",
              " 'BsmtCond': 37,\n",
              " 'BsmtExposure': 38,\n",
              " 'BsmtFinSF1': 0,\n",
              " 'BsmtFinSF2': 0,\n",
              " 'BsmtFinType1': 37,\n",
              " 'BsmtFinType2': 38,\n",
              " 'BsmtFullBath': 0,\n",
              " 'BsmtHalfBath': 0,\n",
              " 'BsmtQual': 37,\n",
              " 'BsmtUnfSF': 0,\n",
              " 'CentralAir': 0,\n",
              " 'Condition1': 0,\n",
              " 'Condition2': 0,\n",
              " 'Electrical': 1,\n",
              " 'EnclosedPorch': 0,\n",
              " 'ExterCond': 0,\n",
              " 'ExterQual': 0,\n",
              " 'Exterior1st': 0,\n",
              " 'Exterior2nd': 0,\n",
              " 'Fence': 1179,\n",
              " 'FireplaceQu': 690,\n",
              " 'Fireplaces': 0,\n",
              " 'Foundation': 0,\n",
              " 'FullBath': 0,\n",
              " 'Functional': 0,\n",
              " 'GarageArea': 0,\n",
              " 'GarageCars': 0,\n",
              " 'GarageCond': 81,\n",
              " 'GarageFinish': 81,\n",
              " 'GarageQual': 81,\n",
              " 'GarageType': 81,\n",
              " 'GarageYrBlt': 81,\n",
              " 'GrLivArea': 0,\n",
              " 'HalfBath': 0,\n",
              " 'Heating': 0,\n",
              " 'HeatingQC': 0,\n",
              " 'HouseStyle': 0,\n",
              " 'Id': 0,\n",
              " 'KitchenAbvGr': 0,\n",
              " 'KitchenQual': 0,\n",
              " 'LandContour': 0,\n",
              " 'LandSlope': 0,\n",
              " 'LotArea': 0,\n",
              " 'LotConfig': 0,\n",
              " 'LotFrontage': 259,\n",
              " 'LotShape': 0,\n",
              " 'LowQualFinSF': 0,\n",
              " 'MSSubClass': 0,\n",
              " 'MSZoning': 0,\n",
              " 'MasVnrArea': 8,\n",
              " 'MasVnrType': 8,\n",
              " 'MiscFeature': 1406,\n",
              " 'MiscVal': 0,\n",
              " 'MoSold': 0,\n",
              " 'Neighborhood': 0,\n",
              " 'OpenPorchSF': 0,\n",
              " 'OverallCond': 0,\n",
              " 'OverallQual': 0,\n",
              " 'PavedDrive': 0,\n",
              " 'PoolArea': 0,\n",
              " 'PoolQC': 1453,\n",
              " 'RoofMatl': 0,\n",
              " 'RoofStyle': 0,\n",
              " 'SaleCondition': 0,\n",
              " 'SalePrice': 0,\n",
              " 'SaleType': 0,\n",
              " 'ScreenPorch': 0,\n",
              " 'Street': 0,\n",
              " 'TotRmsAbvGrd': 0,\n",
              " 'TotalBsmtSF': 0,\n",
              " 'Utilities': 0,\n",
              " 'WoodDeckSF': 0,\n",
              " 'YearBuilt': 0,\n",
              " 'YearRemodAdd': 0,\n",
              " 'YrSold': 0}"
            ]
          },
          "metadata": {
            "tags": []
          },
          "execution_count": 34
        }
      ]
    },
    {
      "cell_type": "markdown",
      "metadata": {
        "id": "-mnnrNLeChQF"
      },
      "source": [
        "## Q3. Find the number of Two-Story houses that have an Overall Quality (overall material and finish of the house) greater than or equal to 5?\n",
        "\n",
        "- Look at the \"data_description.txt\" file and understand the 'HouseStyle' column and 'OverallQual' columns to attempt this question.\n",
        "- Use the pandas dataframe filters to do exactly as the question asks\n",
        "- Store your result in a variable called ****good_quality_houses****"
      ]
    },
    {
      "cell_type": "code",
      "metadata": {
        "id": "hixfTpIeDZd0",
        "colab": {
          "base_uri": "https://localhost:8080/"
        },
        "outputId": "cf0ab19d-efeb-486f-abd2-6b4fe4cfc3e3"
      },
      "source": [
        "#Write your answer below\n",
        "df_good_quality = df[(df['HouseStyle'] == '2Story') & (df['OverallQual'] >= 5)]\n",
        "\n",
        "qood_quality_houses = len(df_good_quality)"
      ],
      "execution_count": null,
      "outputs": [
        {
          "output_type": "stream",
          "text": [
            "429\n"
          ],
          "name": "stdout"
        }
      ]
    },
    {
      "cell_type": "markdown",
      "metadata": {
        "id": "74hGS0QdEDqF"
      },
      "source": [
        "## Q4. Find the number of 'Duplex' houses that have an Overall Quality (overall material and finish of the house) less 5?\n",
        "\n",
        "- Look at the \"data_description.txt\" file and understand the Type of dwelling column and 'OverallQual' columns to attempt this question.\n",
        "- Use the pandas dataframe filters to do exactly as the question asks\n",
        "- Store your result in a variable called ****bad_quality_houses****"
      ]
    },
    {
      "cell_type": "code",
      "metadata": {
        "id": "D8VCOEHYU32y",
        "colab": {
          "base_uri": "https://localhost:8080/"
        },
        "outputId": "40c6fe7f-745d-49e9-8458-e7459ce4f520"
      },
      "source": [
        "#duplex lotconfig corner and overall condition bad\n",
        "df_bad_quality = df[(df['BldgType'] == 'Duplex') & (df['OverallQual'] < 5)]\n",
        "\n",
        "bad_quality_houses = len(df_bad_quality)"
      ],
      "execution_count": null,
      "outputs": [
        {
          "output_type": "stream",
          "text": [
            "11\n"
          ],
          "name": "stdout"
        }
      ]
    },
    {
      "cell_type": "markdown",
      "metadata": {
        "id": "aQ7BFKYfFXi8"
      },
      "source": [
        "## Q5. Use the matplotlib library of python to plot a histogram showing the distribution of the following data:\n",
        "  - Overall quality of the houses. Use the variable name ****overall_qual_dist****\n",
        "  - Roof style of the houses. Use the variable name ****roof_style_dist****"
      ]
    },
    {
      "cell_type": "code",
      "metadata": {
        "id": "CcevG3f8Gcgc",
        "colab": {
          "base_uri": "https://localhost:8080/",
          "height": 513
        },
        "outputId": "279c967c-1729-4c69-f3a4-02b28636a3eb"
      },
      "source": [
        "# Write your code here to display the histogram\n",
        "# Store your exact Command that you use to display the histogram in the variables as written in the question\n",
        "overall_qual_dist = plt.hist(df['OverallQual'])\n",
        "plt.show()\n",
        "roof_style_dist = plt.hist(df['RoofStyle'])\n",
        "plt.show()"
      ],
      "execution_count": null,
      "outputs": [
        {
          "output_type": "display_data",
          "data": {
            "image/png": "[encoded data removed]",
            "text/plain": [
              "<Figure size 432x288 with 1 Axes>"
            ]
          },
          "metadata": {
            "tags": [],
            "needs_background": "light"
          }
        },
        {
          "output_type": "display_data",
          "data": {
            "image/png": "[encoded data removed]",
            "text/plain": [
              "<Figure size 432x288 with 1 Axes>"
            ]
          },
          "metadata": {
            "tags": [],
            "needs_background": "light"
          }
        }
      ]
    }
  ]
}