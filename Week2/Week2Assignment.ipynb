{
  "nbformat": 4,
  "nbformat_minor": 0,
  "metadata": {
    "colab": {
      "name": "Week2Assignment.ipynb",
      "provenance": [],
      "collapsed_sections": []
    },
    "kernelspec": {
      "name": "python3",
      "display_name": "Python 3"
    },
    "language_info": {
      "name": "python"
    }
  },
  "cells": [
    {
      "cell_type": "markdown",
      "metadata": {
        "id": "8l_X4y9_xF1k"
      },
      "source": [
        "ML Bootcamp 2021 - Week 2: Assignment\n",
        "\n",
        "- In this week you will learn more about the Pandas library and implement Logistic Regression\n",
        "- The comments will have most of the instructiions\n",
        "- Attempt the questions using only python/pandas as much as possible as it is a very in-demand skill right now and learning it will be beneficial"
      ]
    },
    {
      "cell_type": "code",
      "metadata": {
        "id": "0DPAiRhTlID6"
      },
      "source": [
        "#Import the necessary libraries here\n",
        "import pandas as pd\n",
        "import numpy as np\n",
        "from sklearn import preprocessing\n",
        "from sklearn.linear_model import LogisticRegression\n",
        "from sklearn.metrics import classification_report\n",
        "from sklearn.model_selection import train_test_split"
      ],
      "execution_count": 4,
      "outputs": []
    },
    {
      "cell_type": "markdown",
      "metadata": {
        "id": "2KyORngMzaL1"
      },
      "source": [
        "## Q1. What is the most frequently occuring age for male and female? If more than one particular age occurs equal number of times, report the higher of the two"
      ]
    },
    {
      "cell_type": "code",
      "metadata": {
        "id": "uez0srlPnxj8"
      },
      "source": [
        "# Write your code below the comments in this cell\n",
        "# Important\n",
        "# Save your female age value in a variable called 'age_female'\n",
        "# Save your male age value in a variable called 'age_male'\n",
        "\n",
        "####Code Comes Here###\n",
        "\n",
        "df = pd.read_csv(\"./train.csv\")\n",
        "df_f = df[df['Sex'] == \"female\"]\n",
        "df_m = df[df['Sex'] == \"male\"]\n",
        "df_m['Age'].mode()\n",
        "df_f['Age'].mode()\n",
        "\n",
        "###Code Comes Here###\n",
        "\n",
        "###Answers come here###\n",
        "\n",
        "age_female = 24.0\n",
        "age_male = 28.0\n",
        "\n",
        "###Answers come here###"
      ],
      "execution_count": 5,
      "outputs": []
    },
    {
      "cell_type": "markdown",
      "metadata": {
        "id": "UMTcBlpL0aL3"
      },
      "source": [
        "## Q2. Convert the 'Sex' feature of the Train dataset into categorical feature. This question would require you to first read about categorical features and how they look before proceeding.\n",
        "\n",
        "- Read about categorical data first: https://www.kdnuggets.com/2021/05/deal-with-categorical-data-machine-learning.html\n",
        "- Create a new column called \"Sex_Category\"\n",
        "- Use the lambda and apply function to perform this task"
      ]
    },
    {
      "cell_type": "code",
      "metadata": {
        "id": "EzArtUHCz9i0"
      },
      "source": [
        "# Write your code below the comments in this cell\n",
        "# Important\n",
        "# Finally your dataframe should have an additional column called \"Sex_Category\"\n",
        "# This \"Sex_Category\" column should have the entry as 1 wherever the column \"Sex\" shows \"female\" and 0 wherever it shows \"male\"\n",
        "# Do not remove the existing \"Sex\" column, instead create a new column based on this existing column\n",
        "# I have already provided the code to create a new column for your dataframe called \"df\"\n",
        "# Refer to the previous notebooks for reference\n",
        "\n",
        "####Code Comes Here###\n",
        "\n",
        "df['Sex_Category'] = df['Sex'].apply(lambda x: 1 if x == \"female\" else 0)\n",
        "\n",
        "###Code Comes Here###"
      ],
      "execution_count": 6,
      "outputs": []
    },
    {
      "cell_type": "markdown",
      "metadata": {
        "id": "4L-V8lV_4EO5"
      },
      "source": [
        "## Q3. Consider the \"Age\" and the \"Fare\" columns. These are known as Numerical features. Sometimes it is a good idea to scale these features(bring all the numerical features to one scale maybe between {0,1} or between {-1,1} so that the weights are not biased across the features\n",
        "\n",
        "- Bring these two features to a common scale\n",
        "- There are many techniques to do this and scikit-learn provides many built-in libraries. Try to explore them and see how you can apply them. You would need to import the appropriate libraries\n",
        "- You can use anyone. Without using scikit-learn, the simplest scaler that you can implement manually is to make the mean 0 and standard deviation as 1\n",
        "- In order to do this manual implementation all you need to do is take each value of \"Age\" and \"Fare\", subtract the mean(mean of full column) from each value and then divide that result by the standard devaition(standard deviation of full column)\n",
        "- If you decide to use the manual process then take the mean of all values except the NULL/Missing values as otherwise you may get an error"
      ]
    },
    {
      "cell_type": "code",
      "metadata": {
        "id": "M0DTidbd1w8o"
      },
      "source": [
        "# Write your code below the comments in this cell\n",
        "# Important\n",
        "# Finally your dataframe should have two additional columns called \"Age_Normalized\" and \"Fare_Normalized\"\n",
        "# Do not remove the existing \"Age\" or \"Fare\" column, instead create new columns based on these existing columns\n",
        "# Refer to the previous notebooks for reference and also Q2 to understand how to add new columns to an existing dataframe\n",
        "# Use the apply and lambda function to perform the calculations\n",
        "# If you choose to use the scikit-learn libraries then make sure to import them first at the very top cell\n",
        "\n",
        "####Code Comes Here###\n",
        "\n",
        "# First Method\n",
        "min_max_scaler = preprocessing.MinMaxScaler()\n",
        "df[['Age_Normalized','Fare_Normalized']] = min_max_scaler.fit_transform(df[['Age','Fare']])\n",
        "\n",
        "# Second Method\n",
        "df['Age_Normalized'] = df['Age'].apply(lambda x: (x - df['Age'].mean()) / df['Age'].std())\n",
        "df['Fare_Normalized'] = df['Fare'].apply(lambda x: (x - df['Fare'].mean()) / df['Fare'].std())\n",
        "\n",
        "###Code Comes Here###"
      ],
      "execution_count": 7,
      "outputs": []
    },
    {
      "cell_type": "markdown",
      "metadata": {
        "id": "sNUtClA27s6G"
      },
      "source": [
        "## Q4. Implement the ****Logistic**** function in Python based on the formula provided in the slides. All you need is provided in the numpy module or math module. There is a mistake, the place where I mention \"Logit\" function in the slides it is actually called \"Logistic\" function and not Logit function"
      ]
    },
    {
      "cell_type": "code",
      "metadata": {
        "id": "UgXjuJDd597r"
      },
      "source": [
        "# Write your code below the comments in this cell\n",
        "# Important\n",
        "# Define a function and name it \"logistic_fn\"\n",
        "# Return the final result of the logistic function\n",
        "# The equation of the logistic function is present in the slides\n",
        "####Code Comes Here###\n",
        "\n",
        "def logistic_fn(x):\n",
        "  return 1.0 / (1.0 + np.exp(-x))\n",
        "\n",
        "###Code Comes Here###\n",
        "\n",
        "#Verification\n",
        "# logistic_fn(1) --> 0.7310585786300049"
      ],
      "execution_count": 8,
      "outputs": []
    },
    {
      "cell_type": "markdown",
      "metadata": {
        "id": "DGxKCzty93lN"
      },
      "source": [
        "## Q5. Using the above newly generated features, \"Age_Normalized\", \"Fare_Normalized\", \"Sex_Category\" and ****any other feature of your choice****. Implement the Logistic Regression Function just as was described in the last class notebook\n",
        "\n",
        "- Import the Logistic Regression Function from scikit-learn\n",
        "- Select the appropriate features first from your dataframe\n",
        "- Create appropriate variables called x_train, x_test, y_train, y_test using the splitting function showed before\n",
        "- Use all the features that you created now and REMEMBER, an ML model only accepts Numerical features. Now you will understand the importance of converting categorical data to numbers\n",
        "- Then train/fit() your training data to the Logistic Regression Model and then test/predict() it on your test dataset\n",
        "- ****The problem here is \"Titanic Survival Prediction\". From this name think about what is the output/label for this classification task. That single column will be your y_train/y_test. It was also accounced in class as well****\n",
        "\n",
        "- Keep the \"random_state\" paramenter inside the Logistic Regression function as any number of your choice and and report that number when submitting the assignment so that I can recreate your results. That number can be any integer\n",
        "\n",
        "- Print out the classification_report as shown during the class"
      ]
    },
    {
      "cell_type": "code",
      "metadata": {
        "colab": {
          "base_uri": "https://localhost:8080/"
        },
        "id": "Eq-5Bl1dpiIC",
        "outputId": "c708e09e-0978-4564-d626-732e09740944"
      },
      "source": [
        "# dropping all null/NaN values\n",
        "df.dropna(inplace=True)\n",
        "# splitting the data into train and test (x_train/x_test = Age_Normalized, Fare_Noramlized, Sex_Category   y_train/y_test = Survived)\n",
        "x_train, x_test, y_train, y_test = train_test_split(df[['Age_Normalized','Fare_Normalized','Sex_Category']],df[['Survived']],\\\n",
        "                                                    test_size=0.1,random_state = 2)   # <-- random state is 2\n",
        "log_reg = LogisticRegression(class_weight={1:0.37,0:0.7})\n",
        "log_reg.fit(x_train,y_train)\n",
        "titanic_predictions = log_reg.predict(x_test)\n",
        "print(classification_report(y_test,titanic_predictions))"
      ],
      "execution_count": 24,
      "outputs": [
        {
          "output_type": "stream",
          "text": [
            "              precision    recall  f1-score   support\n",
            "\n",
            "           0       0.60      0.86      0.71         7\n",
            "           1       0.89      0.67      0.76        12\n",
            "\n",
            "    accuracy                           0.74        19\n",
            "   macro avg       0.74      0.76      0.73        19\n",
            "weighted avg       0.78      0.74      0.74        19\n",
            "\n"
          ],
          "name": "stdout"
        },
        {
          "output_type": "stream",
          "text": [
            "/usr/local/lib/python3.7/dist-packages/sklearn/utils/validation.py:760: DataConversionWarning: A column-vector y was passed when a 1d array was expected. Please change the shape of y to (n_samples, ), for example using ravel().\n",
            "  y = column_or_1d(y, warn=True)\n"
          ],
          "name": "stderr"
        }
      ]
    }
  ]
}
