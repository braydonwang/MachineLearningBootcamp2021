{
  "nbformat": 4,
  "nbformat_minor": 0,
  "metadata": {
    "colab": {
      "name": "Week2Bootcamp.ipynb",
      "provenance": [],
      "collapsed_sections": []
    },
    "kernelspec": {
      "name": "python3",
      "display_name": "Python 3"
    },
    "language_info": {
      "name": "python"
    }
  },
  "cells": [
    {
      "cell_type": "code",
      "metadata": {
        "id": "d00BU6aePVGl"
      },
      "source": [
        "import pandas as pd\n",
        "import numpy as np\n",
        "from sklearn.linear_model import LinearRegression, LogisticRegression # The Machine Learning Algorithms\n",
        "from sklearn.metrics import classification_report, mean_squared_error\n",
        "from sklearn.model_selection import train_test_split\n",
        "from sklearn.preprocessing import StandardScaler # This can be used to scale your data\n",
        "import matplotlib.pyplot as plt\n",
        "import seaborn as sb"
      ],
      "execution_count": null,
      "outputs": []
    },
    {
      "cell_type": "markdown",
      "metadata": {
        "id": "x_lxsouFXeT5"
      },
      "source": [
        "## Data Exploration and Cleaning\n",
        "\n",
        "- Explore the different columns in the data\n",
        "- Check for missing values and use appropriate techniques to fill/remove the missing values"
      ]
    },
    {
      "cell_type": "code",
      "metadata": {
        "id": "VGnTP_21bcYu"
      },
      "source": [
        "df = pd.read_csv(\"./train.csv\")"
      ],
      "execution_count": null,
      "outputs": []
    },
    {
      "cell_type": "code",
      "metadata": {
        "colab": {
          "base_uri": "https://localhost:8080/"
        },
        "id": "drp_lyRaYbuU",
        "outputId": "033d13c4-a201-4488-9868-f4f7ae8fb078"
      },
      "source": [
        "df.shape"
      ],
      "execution_count": null,
      "outputs": [
        {
          "output_type": "execute_result",
          "data": {
            "text/plain": [
              "(700, 2)"
            ]
          },
          "metadata": {
            "tags": []
          },
          "execution_count": 3
        }
      ]
    },
    {
      "cell_type": "code",
      "metadata": {
        "colab": {
          "base_uri": "https://localhost:8080/",
          "height": 204
        },
        "id": "-pnO8h9YcrCJ",
        "outputId": "dd0ed9ac-46f7-4efb-80e3-e62c4b7e4b12"
      },
      "source": [
        "df.head()"
      ],
      "execution_count": null,
      "outputs": [
        {
          "output_type": "execute_result",
          "data": {
            "text/html": [
              "<div>\n",
              "<style scoped>\n",
              "    .dataframe tbody tr th:only-of-type {\n",
              "        vertical-align: middle;\n",
              "    }\n",
              "\n",
              "    .dataframe tbody tr th {\n",
              "        vertical-align: top;\n",
              "    }\n",
              "\n",
              "    .dataframe thead th {\n",
              "        text-align: right;\n",
              "    }\n",
              "</style>\n",
              "<table border=\"1\" class=\"dataframe\">\n",
              "  <thead>\n",
              "    <tr style=\"text-align: right;\">\n",
              "      <th></th>\n",
              "      <th>x</th>\n",
              "      <th>y</th>\n",
              "    </tr>\n",
              "  </thead>\n",
              "  <tbody>\n",
              "    <tr>\n",
              "      <th>0</th>\n",
              "      <td>24.0</td>\n",
              "      <td>21.549452</td>\n",
              "    </tr>\n",
              "    <tr>\n",
              "      <th>1</th>\n",
              "      <td>50.0</td>\n",
              "      <td>47.464463</td>\n",
              "    </tr>\n",
              "    <tr>\n",
              "      <th>2</th>\n",
              "      <td>15.0</td>\n",
              "      <td>17.218656</td>\n",
              "    </tr>\n",
              "    <tr>\n",
              "      <th>3</th>\n",
              "      <td>38.0</td>\n",
              "      <td>36.586398</td>\n",
              "    </tr>\n",
              "    <tr>\n",
              "      <th>4</th>\n",
              "      <td>87.0</td>\n",
              "      <td>87.288984</td>\n",
              "    </tr>\n",
              "  </tbody>\n",
              "</table>\n",
              "</div>"
            ],
            "text/plain": [
              "      x          y\n",
              "0  24.0  21.549452\n",
              "1  50.0  47.464463\n",
              "2  15.0  17.218656\n",
              "3  38.0  36.586398\n",
              "4  87.0  87.288984"
            ]
          },
          "metadata": {
            "tags": []
          },
          "execution_count": 4
        }
      ]
    },
    {
      "cell_type": "code",
      "metadata": {
        "colab": {
          "base_uri": "https://localhost:8080/"
        },
        "id": "vysK38N1XzWN",
        "outputId": "7564436e-b1a7-4f15-9329-a07949b60f6a"
      },
      "source": [
        "df.isnull().sum()# Checking for missing values"
      ],
      "execution_count": null,
      "outputs": [
        {
          "output_type": "execute_result",
          "data": {
            "text/plain": [
              "x    0\n",
              "y    1\n",
              "dtype: int64"
            ]
          },
          "metadata": {
            "tags": []
          },
          "execution_count": 7
        }
      ]
    },
    {
      "cell_type": "code",
      "metadata": {
        "id": "l1eEs7-hYJZG"
      },
      "source": [
        "#Fill in the missing values\n",
        "# df.fillna(method='backfill',inplace=True)\n",
        "#Remove the missing values\n",
        "df.dropna(inplace=True)"
      ],
      "execution_count": null,
      "outputs": []
    },
    {
      "cell_type": "code",
      "metadata": {
        "colab": {
          "base_uri": "https://localhost:8080/"
        },
        "id": "1ohTUynURjhn",
        "outputId": "afc4304f-2074-460c-a5eb-2e82bb0d3d2c"
      },
      "source": [
        "df.isnull().sum()"
      ],
      "execution_count": null,
      "outputs": [
        {
          "output_type": "execute_result",
          "data": {
            "text/plain": [
              "x    0\n",
              "y    0\n",
              "dtype: int64"
            ]
          },
          "metadata": {
            "tags": []
          },
          "execution_count": 9
        }
      ]
    },
    {
      "cell_type": "markdown",
      "metadata": {
        "id": "w2aF5xUSYekX"
      },
      "source": [
        "## Visualize your data by plotting\n",
        "- In this case we just have 1 independent variable 'x' and 1 dependent variable 'y'"
      ]
    },
    {
      "cell_type": "code",
      "metadata": {
        "id": "CYwJHMVmYnC2"
      },
      "source": [
        "x_train = np.array(df['x'])#The independent variable/feature\n",
        "y_train = np.array(df['y'])#The dependent variable/output"
      ],
      "execution_count": null,
      "outputs": []
    },
    {
      "cell_type": "code",
      "metadata": {
        "colab": {
          "base_uri": "https://localhost:8080/",
          "height": 623
        },
        "id": "TarWK0efY2SW",
        "outputId": "2d4f1fa5-496c-4615-cee0-fc0a1673aa45"
      },
      "source": [
        "plt.figure(figsize=(15,10))\n",
        "plt.scatter(x_train[:50],y_train[:50])\n",
        "plt.xlabel(\"X Values - Independent Variable\")\n",
        "plt.ylabel(\"Y Values - Dependent Variable\")"
      ],
      "execution_count": null,
      "outputs": [
        {
          "output_type": "execute_result",
          "data": {
            "text/plain": [
              "Text(0, 0.5, 'Y Values - Dependent Variable')"
            ]
          },
          "metadata": {
            "tags": []
          },
          "execution_count": 11
        },
        {
          "output_type": "display_data",
          "data": {
            "image/png": "[encoded data removed]",
            "text/plain": [
              "<Figure size 1080x720 with 1 Axes>"
            ]
          },
          "metadata": {
            "tags": [],
            "needs_background": "light"
          }
        }
      ]
    },
    {
      "cell_type": "markdown",
      "metadata": {
        "id": "-_7EaESFZdeL"
      },
      "source": [
        "## Building a Simple Linear Regression Model\n",
        "- We will use the scikit-learn package to implement the Linear Regression Model\n",
        "- This model is used to get the best-fit line to the above plot"
      ]
    },
    {
      "cell_type": "code",
      "metadata": {
        "colab": {
          "base_uri": "https://localhost:8080/"
        },
        "id": "Tb7w4kLBcrhn",
        "outputId": "25e3b56e-44f4-4380-be24-efcd20a1fd07"
      },
      "source": [
        "reg = LinearRegression()# Define the model's object\n",
        "reg.fit(x_train.reshape(-1,1),y_train.reshape(-1,1))#Call the object's function to fit/train the model\n",
        "#reshape turns the 1D array into a 2D array"
      ],
      "execution_count": null,
      "outputs": [
        {
          "output_type": "execute_result",
          "data": {
            "text/plain": [
              "LinearRegression(copy_X=True, fit_intercept=True, n_jobs=None, normalize=False)"
            ]
          },
          "metadata": {
            "tags": []
          },
          "execution_count": 12
        }
      ]
    },
    {
      "cell_type": "markdown",
      "metadata": {
        "id": "HBV0UmU2aGFh"
      },
      "source": [
        "- Now let us look at our predictions best-fit line versus the actual values on the ****Test dataset****"
      ]
    },
    {
      "cell_type": "code",
      "metadata": {
        "id": "g5UFlVI3aPfY"
      },
      "source": [
        "df_test = pd.read_csv(\"./test.csv\")#Reading the test dataset\n",
        "x_test = np.array(df_test['x'])#Store the x-test values\n",
        "y_test = np.array(df_test['y'])#Store the y-test values"
      ],
      "execution_count": null,
      "outputs": []
    },
    {
      "cell_type": "markdown",
      "metadata": {
        "id": "xp6uppqsaXx0"
      },
      "source": [
        "- Calling your trained Machine Learning Model to make predictions on unknown data points"
      ]
    },
    {
      "cell_type": "code",
      "metadata": {
        "id": "7xIC--seaXNG"
      },
      "source": [
        "model_predictions = reg.predict(x_test.reshape(-1,1))"
      ],
      "execution_count": null,
      "outputs": []
    },
    {
      "cell_type": "code",
      "metadata": {
        "colab": {
          "base_uri": "https://localhost:8080/",
          "height": 623
        },
        "id": "plGnkdFOdq1X",
        "outputId": "4fc01fca-6b4b-4c50-b898-f757b5cdaccd"
      },
      "source": [
        "plt.figure(figsize=(15,10))\n",
        "plt.scatter(x_test,y_test)\n",
        "plt.plot(x_test,model_predictions,color='r')\n",
        "plt.xlabel(\"X Test Values - Independent Variable\")\n",
        "plt.ylabel(\"Y Test Values - Dependent Variable\")"
      ],
      "execution_count": null,
      "outputs": [
        {
          "output_type": "execute_result",
          "data": {
            "text/plain": [
              "Text(0, 0.5, 'Y Test Values - Dependent Variable')"
            ]
          },
          "metadata": {
            "tags": []
          },
          "execution_count": 20
        },
        {
          "output_type": "display_data",
          "data": {
            "image/png": "[encoded data removed]",
            "text/plain": [
              "<Figure size 1080x720 with 1 Axes>"
            ]
          },
          "metadata": {
            "tags": [],
            "needs_background": "light"
          }
        }
      ]
    },
    {
      "cell_type": "markdown",
      "metadata": {
        "id": "mSJZa0dijU-M"
      },
      "source": [
        "## Evaluating our model quantitatively\n",
        "- Since this is a Regression task, we cannot rely on accuracy\n",
        "- Metrics such as R2 score, mean squared error, mean absolute error etc. are used to evaluate such tasks"
      ]
    },
    {
      "cell_type": "code",
      "metadata": {
        "colab": {
          "base_uri": "https://localhost:8080/"
        },
        "id": "IwA3lsLzjlcp",
        "outputId": "1be4136f-0862-4e01-e429-70406137a7ef"
      },
      "source": [
        "mean_squared_error(y_test,model_predictions) # There is a lot of room for improvement"
      ],
      "execution_count": null,
      "outputs": [
        {
          "output_type": "execute_result",
          "data": {
            "text/plain": [
              "9.432922192039305"
            ]
          },
          "metadata": {
            "tags": []
          },
          "execution_count": 21
        }
      ]
    },
    {
      "cell_type": "markdown",
      "metadata": {
        "id": "1fj-AM_rdTuX"
      },
      "source": [
        "## Building the Logistic Regression Model"
      ]
    },
    {
      "cell_type": "code",
      "metadata": {
        "id": "4iNlvtUWfbhV"
      },
      "source": [
        "df_social = pd.read_csv(\"./Social_Network_Ads.csv\")# Reading the new dataset"
      ],
      "execution_count": null,
      "outputs": []
    },
    {
      "cell_type": "code",
      "metadata": {
        "colab": {
          "base_uri": "https://localhost:8080/"
        },
        "id": "Ri8aVZiOiPMk",
        "outputId": "981687ac-49ff-45bb-f1ab-7217d4535974"
      },
      "source": [
        "df_social.shape"
      ],
      "execution_count": null,
      "outputs": [
        {
          "output_type": "execute_result",
          "data": {
            "text/plain": [
              "(400, 5)"
            ]
          },
          "metadata": {
            "tags": []
          },
          "execution_count": 23
        }
      ]
    },
    {
      "cell_type": "code",
      "metadata": {
        "colab": {
          "base_uri": "https://localhost:8080/",
          "height": 359
        },
        "id": "GIS4BsZbhFAM",
        "outputId": "d2efbe18-4214-40c4-e339-b1ea3589c98f"
      },
      "source": [
        "df_social.sample(10)# A glimpse into the data"
      ],
      "execution_count": null,
      "outputs": [
        {
          "output_type": "execute_result",
          "data": {
            "text/html": [
              "<div>\n",
              "<style scoped>\n",
              "    .dataframe tbody tr th:only-of-type {\n",
              "        vertical-align: middle;\n",
              "    }\n",
              "\n",
              "    .dataframe tbody tr th {\n",
              "        vertical-align: top;\n",
              "    }\n",
              "\n",
              "    .dataframe thead th {\n",
              "        text-align: right;\n",
              "    }\n",
              "</style>\n",
              "<table border=\"1\" class=\"dataframe\">\n",
              "  <thead>\n",
              "    <tr style=\"text-align: right;\">\n",
              "      <th></th>\n",
              "      <th>User ID</th>\n",
              "      <th>Gender</th>\n",
              "      <th>Age</th>\n",
              "      <th>EstimatedSalary</th>\n",
              "      <th>Purchased</th>\n",
              "    </tr>\n",
              "  </thead>\n",
              "  <tbody>\n",
              "    <tr>\n",
              "      <th>75</th>\n",
              "      <td>15651983</td>\n",
              "      <td>Male</td>\n",
              "      <td>34</td>\n",
              "      <td>112000</td>\n",
              "      <td>1</td>\n",
              "    </tr>\n",
              "    <tr>\n",
              "      <th>163</th>\n",
              "      <td>15757837</td>\n",
              "      <td>Male</td>\n",
              "      <td>35</td>\n",
              "      <td>38000</td>\n",
              "      <td>0</td>\n",
              "    </tr>\n",
              "    <tr>\n",
              "      <th>84</th>\n",
              "      <td>15798659</td>\n",
              "      <td>Female</td>\n",
              "      <td>30</td>\n",
              "      <td>62000</td>\n",
              "      <td>0</td>\n",
              "    </tr>\n",
              "    <tr>\n",
              "      <th>131</th>\n",
              "      <td>15801247</td>\n",
              "      <td>Male</td>\n",
              "      <td>33</td>\n",
              "      <td>31000</td>\n",
              "      <td>0</td>\n",
              "    </tr>\n",
              "    <tr>\n",
              "      <th>157</th>\n",
              "      <td>15602373</td>\n",
              "      <td>Male</td>\n",
              "      <td>29</td>\n",
              "      <td>75000</td>\n",
              "      <td>0</td>\n",
              "    </tr>\n",
              "    <tr>\n",
              "      <th>266</th>\n",
              "      <td>15721592</td>\n",
              "      <td>Male</td>\n",
              "      <td>40</td>\n",
              "      <td>75000</td>\n",
              "      <td>0</td>\n",
              "    </tr>\n",
              "    <tr>\n",
              "      <th>7</th>\n",
              "      <td>15694829</td>\n",
              "      <td>Female</td>\n",
              "      <td>32</td>\n",
              "      <td>150000</td>\n",
              "      <td>1</td>\n",
              "    </tr>\n",
              "    <tr>\n",
              "      <th>94</th>\n",
              "      <td>15786993</td>\n",
              "      <td>Female</td>\n",
              "      <td>29</td>\n",
              "      <td>83000</td>\n",
              "      <td>0</td>\n",
              "    </tr>\n",
              "    <tr>\n",
              "      <th>260</th>\n",
              "      <td>15811177</td>\n",
              "      <td>Female</td>\n",
              "      <td>35</td>\n",
              "      <td>77000</td>\n",
              "      <td>0</td>\n",
              "    </tr>\n",
              "    <tr>\n",
              "      <th>355</th>\n",
              "      <td>15606472</td>\n",
              "      <td>Male</td>\n",
              "      <td>60</td>\n",
              "      <td>34000</td>\n",
              "      <td>1</td>\n",
              "    </tr>\n",
              "  </tbody>\n",
              "</table>\n",
              "</div>"
            ],
            "text/plain": [
              "      User ID  Gender  Age  EstimatedSalary  Purchased\n",
              "75   15651983    Male   34           112000          1\n",
              "163  15757837    Male   35            38000          0\n",
              "84   15798659  Female   30            62000          0\n",
              "131  15801247    Male   33            31000          0\n",
              "157  15602373    Male   29            75000          0\n",
              "266  15721592    Male   40            75000          0\n",
              "7    15694829  Female   32           150000          1\n",
              "94   15786993  Female   29            83000          0\n",
              "260  15811177  Female   35            77000          0\n",
              "355  15606472    Male   60            34000          1"
            ]
          },
          "metadata": {
            "tags": []
          },
          "execution_count": 26
        }
      ]
    },
    {
      "cell_type": "code",
      "metadata": {
        "colab": {
          "base_uri": "https://localhost:8080/"
        },
        "id": "hoFs1o2KYzHu",
        "outputId": "51b77d2d-893f-4248-dafd-b36b1e1632be"
      },
      "source": [
        "df_social['Purchased'].value_counts()  #imbalanced classes (too many 0s)"
      ],
      "execution_count": null,
      "outputs": [
        {
          "output_type": "execute_result",
          "data": {
            "text/plain": [
              "0    257\n",
              "1    143\n",
              "Name: Purchased, dtype: int64"
            ]
          },
          "metadata": {
            "tags": []
          },
          "execution_count": 33
        }
      ]
    },
    {
      "cell_type": "code",
      "metadata": {
        "colab": {
          "base_uri": "https://localhost:8080/"
        },
        "id": "_IS1lwuSd1Av",
        "outputId": "cf0eb208-5602-405c-e8c5-1b7d50200eec"
      },
      "source": [
        "#Checking for missing values\n",
        "df_social.isnull().sum()"
      ],
      "execution_count": null,
      "outputs": [
        {
          "output_type": "execute_result",
          "data": {
            "text/plain": [
              "User ID            0\n",
              "Gender             0\n",
              "Age                0\n",
              "EstimatedSalary    0\n",
              "Purchased          0\n",
              "dtype: int64"
            ]
          },
          "metadata": {
            "tags": []
          },
          "execution_count": 25
        }
      ]
    },
    {
      "cell_type": "markdown",
      "metadata": {
        "id": "hF8OwJt4d6VK"
      },
      "source": [
        "## Training the Logistic Regression Model\n",
        "- In this case since we have only one dataset, we need to split it into trainig \n",
        "and testing datasets\n",
        "- We will be using scikit-learn to do the splitting "
      ]
    },
    {
      "cell_type": "code",
      "metadata": {
        "id": "CI2GNkFMem4B"
      },
      "source": [
        "x_train_2, x_test_2, y_train_2, y_test_2 = train_test_split(df_social[['Age','EstimatedSalary']],df_social[['Purchased']],\\\n",
        "                                                          test_size=0.1) # Randomly splitting the data into train and test"
      ],
      "execution_count": null,
      "outputs": []
    },
    {
      "cell_type": "code",
      "metadata": {
        "colab": {
          "base_uri": "https://localhost:8080/"
        },
        "id": "fxN0jUMkZr8X",
        "outputId": "0b9c921a-5dd6-4ad7-c8bc-ab984c1e036b"
      },
      "source": [
        "y_test_2['Purchased'].value_counts()"
      ],
      "execution_count": null,
      "outputs": [
        {
          "output_type": "execute_result",
          "data": {
            "text/plain": [
              "0    24\n",
              "1    16\n",
              "Name: Purchased, dtype: int64"
            ]
          },
          "metadata": {
            "tags": []
          },
          "execution_count": 64
        }
      ]
    },
    {
      "cell_type": "code",
      "metadata": {
        "colab": {
          "base_uri": "https://localhost:8080/"
        },
        "id": "9EhXVCYThGRR",
        "outputId": "bb86fc9f-c4ea-4c33-e491-2d4b2f581418"
      },
      "source": [
        "log_reg = LogisticRegression(class_weight={1:0.635,0:0.49}) #Initializing the model\n",
        "log_reg.fit(x_train_2,y_train_2) #Training the model"
      ],
      "execution_count": null,
      "outputs": [
        {
          "output_type": "stream",
          "text": [
            "/usr/local/lib/python3.7/dist-packages/sklearn/utils/validation.py:760: DataConversionWarning: A column-vector y was passed when a 1d array was expected. Please change the shape of y to (n_samples, ), for example using ravel().\n",
            "  y = column_or_1d(y, warn=True)\n"
          ],
          "name": "stderr"
        },
        {
          "output_type": "execute_result",
          "data": {
            "text/plain": [
              "LogisticRegression(C=1.0, class_weight={0: 0.49, 1: 0.635}, dual=False,\n",
              "                   fit_intercept=True, intercept_scaling=1, l1_ratio=None,\n",
              "                   max_iter=100, multi_class='auto', n_jobs=None, penalty='l2',\n",
              "                   random_state=None, solver='lbfgs', tol=0.0001, verbose=0,\n",
              "                   warm_start=False)"
            ]
          },
          "metadata": {
            "tags": []
          },
          "execution_count": 144
        }
      ]
    },
    {
      "cell_type": "markdown",
      "metadata": {
        "id": "9JHPb10Lff6_"
      },
      "source": [
        "## Evaluate your models using some metrics\n",
        "- Accuracy, recall and precision are the most common metrics used to evaluate models for classification problems"
      ]
    },
    {
      "cell_type": "code",
      "metadata": {
        "id": "jwe8Rs4SizZk"
      },
      "source": [
        "social_predictions = log_reg.predict(x_test_2)"
      ],
      "execution_count": null,
      "outputs": []
    },
    {
      "cell_type": "code",
      "metadata": {
        "colab": {
          "base_uri": "https://localhost:8080/"
        },
        "id": "jZgnFndSfuVD",
        "outputId": "fcc757a2-815e-4681-f988-f69140418992"
      },
      "source": [
        "print(classification_report(y_test_2,social_predictions))"
      ],
      "execution_count": null,
      "outputs": [
        {
          "output_type": "stream",
          "text": [
            "              precision    recall  f1-score   support\n",
            "\n",
            "           0       0.91      0.88      0.89        24\n",
            "           1       0.82      0.88      0.85        16\n",
            "\n",
            "    accuracy                           0.88        40\n",
            "   macro avg       0.87      0.88      0.87        40\n",
            "weighted avg       0.88      0.88      0.88        40\n",
            "\n"
          ],
          "name": "stdout"
        }
      ]
    },
    {
      "cell_type": "markdown",
      "metadata": {
        "id": "DIKDUl_bgqk4"
      },
      "source": [
        "## Visualize the Ground-Truth values Vs predictions\n",
        "\n",
        "- We will first look at the ground-truth testing dataset values\n",
        "- Next we will look at how our model is making the predictions"
      ]
    },
    {
      "cell_type": "code",
      "metadata": {
        "colab": {
          "base_uri": "https://localhost:8080/",
          "height": 623
        },
        "id": "4mZ_y7TMi_Cs",
        "outputId": "2e27a7b2-9bca-406b-e3ee-08ccb141488f"
      },
      "source": [
        "plt.figure(figsize=(15,10))\n",
        "sb.scatterplot(data = x_test_2, x = 'Age',y = 'EstimatedSalary',hue=y_test_2['Purchased'])"
      ],
      "execution_count": null,
      "outputs": [
        {
          "output_type": "execute_result",
          "data": {
            "text/plain": [
              "<matplotlib.axes._subplots.AxesSubplot at 0x7f3e499f7550>"
            ]
          },
          "metadata": {
            "tags": []
          },
          "execution_count": 122
        },
        {
          "output_type": "display_data",
          "data": {
            "image/png": "[encoded data removed]",
            "text/plain": [
              "<Figure size 1080x720 with 1 Axes>"
            ]
          },
          "metadata": {
            "tags": [],
            "needs_background": "light"
          }
        }
      ]
    },
    {
      "cell_type": "code",
      "metadata": {
        "colab": {
          "base_uri": "https://localhost:8080/",
          "height": 623
        },
        "id": "ifmyg3LwgmLI",
        "outputId": "e754e086-9add-42d5-b7e3-1aed6e8caf17"
      },
      "source": [
        "plt.figure(figsize=(15,10))\n",
        "sb.scatterplot(data = x_test_2, x = 'Age',y = 'EstimatedSalary',hue=social_predictions)"
      ],
      "execution_count": null,
      "outputs": [
        {
          "output_type": "execute_result",
          "data": {
            "text/plain": [
              "<matplotlib.axes._subplots.AxesSubplot at 0x7f3e4994d350>"
            ]
          },
          "metadata": {
            "tags": []
          },
          "execution_count": 123
        },
        {
          "output_type": "display_data",
          "data": {
            "image/png": "[encoded data removed]",
            "text/plain": [
              "<Figure size 1080x720 with 1 Axes>"
            ]
          },
          "metadata": {
            "tags": [],
            "needs_background": "light"
          }
        }
      ]
    },
    {
      "cell_type": "code",
      "metadata": {
        "id": "5T1sqHfegSFT"
      },
      "source": [
        ""
      ],
      "execution_count": null,
      "outputs": []
    }
  ]
}