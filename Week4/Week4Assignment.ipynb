{
  "nbformat": 4,
  "nbformat_minor": 0,
  "metadata": {
    "colab": {
      "name": "Week4Assignment.ipynb",
      "provenance": [],
      "collapsed_sections": []
    },
    "kernelspec": {
      "name": "python3",
      "display_name": "Python 3"
    },
    "language_info": {
      "name": "python"
    }
  },
  "cells": [
    {
      "cell_type": "markdown",
      "metadata": {
        "id": "YhuymJldwQq8"
      },
      "source": [
        "## MLBootcamp21 Week 4 Assignment: Gridsearch and CrossValidation\n",
        "- This week we will focus on improving our existing models using these two techniques\n",
        "- They are good approaches to improving your model's performance apart from feature engineering"
      ]
    },
    {
      "cell_type": "markdown",
      "metadata": {
        "id": "MtQ2vhXkwptR"
      },
      "source": [
        "## Q1. Use GridSearchCV and also explore other GridSearch techniques provided by scikit-learn to tune your hyperparameters and obtain the best model\n",
        "\n",
        "- Try out Decision Trees, Random Forest, GradientBoost, AdaBoost and also XGBoost \n",
        "- Run the model on the features you have generated until now without tuning the parameters first to check the result on basic parameters\n",
        "- Then apply GridSearchCV or other GridSearch techniques provided by scikit-learn to tune the hyperparameters and get results on the best model\n",
        "\n",
        "## Keep the \"random_state\" number as 42 or anynumber of your choice and report that number for me to be able to reproduce the same results\n",
        "\n",
        "- Report your performance on the test set after making the submission on kaggle. \n",
        "\n",
        "- ****Do not use some random existing notebook on Kaggle to get the best results as you will not learn anything that way and we will be able to easily know if that has been done. Do whatever you can****"
      ]
    },
    {
      "cell_type": "code",
      "metadata": {
        "id": "MmFiP4zSwo5X"
      },
      "source": [
        "# Write your code from this cell\n",
        "# It need not be in a single cell\n",
        "\n",
        "# IMPORTS\n",
        "import pandas as pd\n",
        "import numpy as np\n",
        "from sklearn.ensemble import RandomForestClassifier, GradientBoostingClassifier, AdaBoostClassifier\n",
        "from sklearn.tree import DecisionTreeClassifier\n",
        "import xgboost as xgb\n",
        "from sklearn.model_selection import train_test_split\n",
        "from sklearn.linear_model import LogisticRegression\n",
        "from sklearn import tree\n",
        "from sklearn.model_selection import GridSearchCV\n",
        "import matplotlib.pyplot as plt\n",
        "from sklearn import datasets\n",
        "from sklearn.metrics import classification_report\n",
        "from xgboost import XGBClassifier\n",
        "from sklearn.model_selection import KFold\n",
        "from sklearn.model_selection import cross_val_score"
      ],
      "execution_count": null,
      "outputs": []
    },
    {
      "cell_type": "code",
      "metadata": {
        "id": "KRKvDxJOse1R"
      },
      "source": [
        "# READ FILE AND WEEK 3 FEATURES\n",
        "df = pd.read_csv(\"./train.csv\")\n",
        "df[['female','male']] = pd.get_dummies(df['Sex'])\n",
        "df[[\"C\",\"Q\",\"S\"]] = pd.get_dummies(df[\"Embarked\"])\n",
        "df.fillna(method=\"ffill\",inplace=True)\n",
        "drop_features = [\"Sex\",'Ticket','Name','Cabin',\"Embarked\"]\n",
        "df.drop(drop_features,inplace=True,axis=1)"
      ],
      "execution_count": null,
      "outputs": []
    },
    {
      "cell_type": "code",
      "metadata": {
        "id": "hI4Iz_nksnG5"
      },
      "source": [
        "# TRAIN TEST SPLIT\n",
        "x_train, x_test, y_train, y_test = train_test_split(df.loc[:,'Pclass':],df.Survived,\\\n",
        "                                                          test_size=0.2,random_state=42)"
      ],
      "execution_count": null,
      "outputs": []
    },
    {
      "cell_type": "code",
      "metadata": {
        "colab": {
          "base_uri": "https://localhost:8080/"
        },
        "id": "JDmqn19ustHQ",
        "outputId": "0cb6778e-575d-40bd-8b5e-8cf64aeacf32"
      },
      "source": [
        "# DECISION TREE MODEL\n",
        "dt_model = DecisionTreeClassifier(random_state=42)\n",
        "dt_model.fit(x_train,y_train)\n",
        "dt_model_predictions = dt_model.predict(x_test)\n",
        "print(classification_report(y_test,dt_model_predictions))"
      ],
      "execution_count": null,
      "outputs": [
        {
          "output_type": "stream",
          "text": [
            "              precision    recall  f1-score   support\n",
            "\n",
            "           0       0.82      0.82      0.82       105\n",
            "           1       0.74      0.74      0.74        74\n",
            "\n",
            "    accuracy                           0.79       179\n",
            "   macro avg       0.78      0.78      0.78       179\n",
            "weighted avg       0.79      0.79      0.79       179\n",
            "\n"
          ],
          "name": "stdout"
        }
      ]
    },
    {
      "cell_type": "code",
      "metadata": {
        "colab": {
          "base_uri": "https://localhost:8080/"
        },
        "id": "uVSauD6Vs10e",
        "outputId": "7f94a7d0-7fad-4071-acb7-3094eafbee40"
      },
      "source": [
        "# DECISION TREE MODEL WITH GRIDSEARCHCV\n",
        "parameter_grid = {\n",
        "    'criterion': ['gini','entropy'],\n",
        "    'splitter': ['best','random'],\n",
        "    'max_leaf_nodes': [2,4,5,7,10],\n",
        "    'max_features': ['auto','log2','sqrt']\n",
        "}\n",
        "dt_model_gridsearched = GridSearchCV(cv=5,estimator=DecisionTreeClassifier(random_state=42),\n",
        "                                     param_grid = parameter_grid)\n",
        "dt_model_gridsearched.fit(x_train,y_train)\n",
        "dt_model_gridsearched.best_params_\n",
        "print(classification_report(y_test,dt_model_gridsearched.predict(x_test)))"
      ],
      "execution_count": null,
      "outputs": [
        {
          "output_type": "stream",
          "text": [
            "              precision    recall  f1-score   support\n",
            "\n",
            "           0       0.80      0.88      0.84       105\n",
            "           1       0.80      0.69      0.74        74\n",
            "\n",
            "    accuracy                           0.80       179\n",
            "   macro avg       0.80      0.78      0.79       179\n",
            "weighted avg       0.80      0.80      0.80       179\n",
            "\n"
          ],
          "name": "stdout"
        }
      ]
    },
    {
      "cell_type": "code",
      "metadata": {
        "colab": {
          "base_uri": "https://localhost:8080/"
        },
        "id": "0BPbN3x9tCHP",
        "outputId": "c237c3e9-7d7c-4a7d-c50e-ea364f46d6c8"
      },
      "source": [
        "# RANDOM FOREST MODEL\n",
        "rf_model = RandomForestClassifier(random_state=2)\n",
        "rf_model.fit(x_train,y_train)\n",
        "rf_model_predictions = rf_model.predict(x_test)\n",
        "print(classification_report(y_test,rf_model_predictions))"
      ],
      "execution_count": null,
      "outputs": [
        {
          "output_type": "stream",
          "text": [
            "              precision    recall  f1-score   support\n",
            "\n",
            "           0       0.83      0.87      0.85       105\n",
            "           1       0.80      0.76      0.78        74\n",
            "\n",
            "    accuracy                           0.82       179\n",
            "   macro avg       0.82      0.81      0.81       179\n",
            "weighted avg       0.82      0.82      0.82       179\n",
            "\n"
          ],
          "name": "stdout"
        }
      ]
    },
    {
      "cell_type": "code",
      "metadata": {
        "colab": {
          "base_uri": "https://localhost:8080/"
        },
        "id": "hcWvdATVtVx4",
        "outputId": "c840ed59-ff23-45fe-d783-12e695d2d1d2"
      },
      "source": [
        "# RANDOM FOREST MODEL WITH GRIDSEARCHCV\n",
        "parameter_grid = {\n",
        "    'bootstrap': [True, False],\n",
        "    'criterion': ['gini','entropy'],\n",
        "    'n_estimators': [10,20,50,100,500],\n",
        "    'max_leaf_nodes': [2,4,5,7,10],\n",
        "    'max_features': ['auto','log2','sqrt']\n",
        "}\n",
        "rf_model_gridsearched = GridSearchCV(cv=5,estimator=RandomForestClassifier(random_state=42),\n",
        "                                     param_grid = parameter_grid)\n",
        "rf_model_gridsearched.fit(x_train,y_train)\n",
        "rf_model_gridsearched.best_params_\n",
        "print(classification_report(y_test,rf_model_gridsearched.predict(x_test)))"
      ],
      "execution_count": null,
      "outputs": [
        {
          "output_type": "stream",
          "text": [
            "              precision    recall  f1-score   support\n",
            "\n",
            "           0       0.80      0.88      0.84       105\n",
            "           1       0.80      0.69      0.74        74\n",
            "\n",
            "    accuracy                           0.80       179\n",
            "   macro avg       0.80      0.78      0.79       179\n",
            "weighted avg       0.80      0.80      0.80       179\n",
            "\n"
          ],
          "name": "stdout"
        }
      ]
    },
    {
      "cell_type": "code",
      "metadata": {
        "colab": {
          "base_uri": "https://localhost:8080/"
        },
        "id": "sVcPlKjptdY0",
        "outputId": "e8c65e6d-e1ab-43be-ae96-775fa7adef83"
      },
      "source": [
        "# GRADIENT BOOSTING MODEL\n",
        "gb_model = GradientBoostingClassifier(learning_rate=0.5,random_state=42)\n",
        "gb_model.fit(x_train,y_train)\n",
        "gb_model_predictions = gb_model.predict(x_test)\n",
        "print(classification_report(y_test,gb_model_predictions))"
      ],
      "execution_count": null,
      "outputs": [
        {
          "output_type": "stream",
          "text": [
            "              precision    recall  f1-score   support\n",
            "\n",
            "           0       0.83      0.82      0.83       105\n",
            "           1       0.75      0.77      0.76        74\n",
            "\n",
            "    accuracy                           0.80       179\n",
            "   macro avg       0.79      0.79      0.79       179\n",
            "weighted avg       0.80      0.80      0.80       179\n",
            "\n"
          ],
          "name": "stdout"
        }
      ]
    },
    {
      "cell_type": "code",
      "metadata": {
        "colab": {
          "base_uri": "https://localhost:8080/"
        },
        "id": "StjvlhaftmuH",
        "outputId": "76ecc23f-ba7a-495c-b9a8-21f40e25a6ad"
      },
      "source": [
        "# GRADIENT BOOSTING MODEL WITH GRIDSEARCHCV\n",
        "parameter_grid = {\n",
        "    'loss': ['deviance','exponential'],\n",
        "    'learning_rate': [0.1,0.3,0.5,0.7],\n",
        "    'n_estimators': [10,20,50,100],\n",
        "    'max_leaf_nodes': [2,3,5,7,10]\n",
        "}\n",
        "gb_model_gridsearched = GridSearchCV(cv=5,estimator=GradientBoostingClassifier(random_state=42),\n",
        "                                     param_grid = parameter_grid)\n",
        "gb_model_gridsearched.fit(x_train,y_train)\n",
        "gb_model_gridsearched.best_params_\n",
        "print(classification_report(y_test,gb_model_gridsearched.predict(x_test)))"
      ],
      "execution_count": null,
      "outputs": [
        {
          "output_type": "stream",
          "text": [
            "              precision    recall  f1-score   support\n",
            "\n",
            "           0       0.79      0.88      0.83       105\n",
            "           1       0.79      0.68      0.73        74\n",
            "\n",
            "    accuracy                           0.79       179\n",
            "   macro avg       0.79      0.78      0.78       179\n",
            "weighted avg       0.79      0.79      0.79       179\n",
            "\n"
          ],
          "name": "stdout"
        }
      ]
    },
    {
      "cell_type": "code",
      "metadata": {
        "colab": {
          "base_uri": "https://localhost:8080/"
        },
        "id": "7BqSV23DtvP5",
        "outputId": "da88e142-434f-45e1-d694-23d57959f57e"
      },
      "source": [
        "# ADA BOOST MODEL\n",
        "ab_model = AdaBoostClassifier(random_state=42)\n",
        "ab_model.fit(x_train,y_train)\n",
        "ab_model_predictions = ab_model.predict(x_test)\n",
        "print(classification_report(y_test,ab_model_predictions))"
      ],
      "execution_count": null,
      "outputs": [
        {
          "output_type": "stream",
          "text": [
            "              precision    recall  f1-score   support\n",
            "\n",
            "           0       0.82      0.79      0.81       105\n",
            "           1       0.72      0.76      0.74        74\n",
            "\n",
            "    accuracy                           0.78       179\n",
            "   macro avg       0.77      0.77      0.77       179\n",
            "weighted avg       0.78      0.78      0.78       179\n",
            "\n"
          ],
          "name": "stdout"
        }
      ]
    },
    {
      "cell_type": "code",
      "metadata": {
        "colab": {
          "base_uri": "https://localhost:8080/"
        },
        "id": "JuzbQzXPt2m7",
        "outputId": "4b774b27-65fa-4725-c184-ad5c8a5fd2da"
      },
      "source": [
        "# ADA BOOST MODEL WITH GRIDSEARCHCV\n",
        "parameter_grid = {\n",
        "    'algorithm': ['SAMME','SAMME.R'],\n",
        "    'n_estimators': [5,10,20,50,100],\n",
        "    'learning_rate': [0.5,1.0,1.5]\n",
        "}\n",
        "ab_model_gridsearched = GridSearchCV(cv=5,estimator=AdaBoostClassifier(random_state=42),\n",
        "                                     param_grid = parameter_grid)\n",
        "ab_model_gridsearched.fit(x_train,y_train)\n",
        "ab_model_gridsearched.best_params_\n",
        "print(classification_report(y_test,ab_model_gridsearched.predict(x_test)))"
      ],
      "execution_count": null,
      "outputs": [
        {
          "output_type": "stream",
          "text": [
            "              precision    recall  f1-score   support\n",
            "\n",
            "           0       0.83      0.84      0.83       105\n",
            "           1       0.77      0.76      0.76        74\n",
            "\n",
            "    accuracy                           0.80       179\n",
            "   macro avg       0.80      0.80      0.80       179\n",
            "weighted avg       0.80      0.80      0.80       179\n",
            "\n"
          ],
          "name": "stdout"
        }
      ]
    },
    {
      "cell_type": "code",
      "metadata": {
        "colab": {
          "base_uri": "https://localhost:8080/"
        },
        "id": "8_Wf9EGyuBTb",
        "outputId": "1ad292df-80dc-4452-9578-5f47b1940ea5"
      },
      "source": [
        "# XGBOOST MODEL\n",
        "xgb_model = XGBClassifier(random_state=42)\n",
        "xgb_model.fit(x_train,y_train)\n",
        "xgb_model_predictions = xgb_model.predict(x_test)\n",
        "print(classification_report(y_test,xgb_model_predictions))"
      ],
      "execution_count": null,
      "outputs": [
        {
          "output_type": "stream",
          "text": [
            "              precision    recall  f1-score   support\n",
            "\n",
            "           0       0.80      0.89      0.84       105\n",
            "           1       0.81      0.69      0.74        74\n",
            "\n",
            "    accuracy                           0.80       179\n",
            "   macro avg       0.81      0.79      0.79       179\n",
            "weighted avg       0.80      0.80      0.80       179\n",
            "\n"
          ],
          "name": "stdout"
        }
      ]
    },
    {
      "cell_type": "code",
      "metadata": {
        "colab": {
          "base_uri": "https://localhost:8080/"
        },
        "id": "nfuSiDrNuHdI",
        "outputId": "4d50212a-14d7-428d-df0b-ccd9784609b6"
      },
      "source": [
        "# XGBOOST MODEL WITH GRIDSEARCHCV\n",
        "parameter_grid = {\n",
        "    'max_depth': [2,3,4,5,6],\n",
        "    'learning_rate': [0.1,0.2,0.3],\n",
        "    'n_estimators': [10,20,50,100],\n",
        "    'min_child_weight': [1,2,5,10],\n",
        "    'max_delta_step': [0,1,2]\n",
        "}\n",
        "xgb_model_gridsearched = GridSearchCV(cv=5,estimator=XGBClassifier(random_state=42),\n",
        "                                      param_grid=parameter_grid)\n",
        "xgb_model_gridsearched.fit(x_train,y_train)\n",
        "xgb_model_gridsearched.best_params_\n",
        "print(classification_report(y_test,xgb_model_gridsearched.predict(x_test)))"
      ],
      "execution_count": null,
      "outputs": [
        {
          "output_type": "stream",
          "text": [
            "              precision    recall  f1-score   support\n",
            "\n",
            "           0       0.81      0.90      0.86       105\n",
            "           1       0.84      0.70      0.76        74\n",
            "\n",
            "    accuracy                           0.82       179\n",
            "   macro avg       0.83      0.80      0.81       179\n",
            "weighted avg       0.82      0.82      0.82       179\n",
            "\n"
          ],
          "name": "stdout"
        }
      ]
    },
    {
      "cell_type": "code",
      "metadata": {
        "id": "ZSucZoJMysBO"
      },
      "source": [
        "# RESULT FROM KAGGLE\n",
        "best_submission = 0.78468   #from rf model"
      ],
      "execution_count": null,
      "outputs": []
    },
    {
      "cell_type": "markdown",
      "metadata": {
        "id": "Hfx1tUtmykXK"
      },
      "source": [
        "## Q2. There might be times when you would only like to do K-Fold Cross Validation and not run the time consuming GridSearch everytime. That is what you will be doing in this question. \n",
        "\n",
        "- Read the documention for K-Fold crossvalidation provided by scikit-learn here: https://scikit-learn.org/stable/modules/generated/sklearn.model_selection.KFold.html\n",
        "\n",
        "- Try to understand and run the code provided by scikit-learn. Basically this function provided by scikit-learn will split your dataset into the \"K\" folds and will give you the indices of the \"K\" folds\n",
        "\n",
        "- Then use the K-Fold crossvalidation technique to generate the \"K\" folds and report the accuracy obtained for each of the \"K\" folds\n",
        "\n",
        "- You should get \"K\" different accuracy values and then finally take the average of all the \"K\" accuracies which would be your final model performance\n",
        "\n",
        "- This exercise will help you really understand K-Fold CrossValidation"
      ]
    },
    {
      "cell_type": "code",
      "metadata": {
        "id": "Lp7w1n-DyjpI",
        "colab": {
          "base_uri": "https://localhost:8080/"
        },
        "outputId": "4b43c6ee-1a05-4295-f0ac-b05ecd609ce0"
      },
      "source": [
        "## Write your code from here\n",
        "kf = KFold(n_splits=10, random_state=42, shuffle=True)\n",
        "clf = RandomForestClassifier(bootstrap=False,criterion='entropy',max_features='auto',max_leaf_nodes=10,n_estimators=500,random_state=42)  #using the best params\n",
        "\n",
        "X = df.loc[:,'Pclass':]\n",
        "Y = df.loc[:,'Survived']\n",
        "scoring = 'accuracy'\n",
        "results = cross_val_score(clf, X.values, Y.values, cv=kf, n_jobs=1, scoring=scoring)\n",
        "results"
      ],
      "execution_count": null,
      "outputs": [
        {
          "output_type": "execute_result",
          "data": {
            "text/plain": [
              "array([0.82222222, 0.78651685, 0.84269663, 0.76404494, 0.88764045,\n",
              "       0.87640449, 0.79775281, 0.7752809 , 0.76404494, 0.88764045])"
            ]
          },
          "metadata": {
            "tags": []
          },
          "execution_count": 7
        }
      ]
    },
    {
      "cell_type": "code",
      "metadata": {
        "colab": {
          "base_uri": "https://localhost:8080/"
        },
        "id": "WrdADzyg1JIU",
        "outputId": "662fb286-fe77-45df-f62b-b832847a792e"
      },
      "source": [
        "print(results.mean())"
      ],
      "execution_count": null,
      "outputs": [
        {
          "output_type": "stream",
          "text": [
            "0.8204244694132334\n"
          ],
          "name": "stdout"
        }
      ]
    },
    {
      "cell_type": "code",
      "metadata": {
        "id": "XP1FogY_zrTk"
      },
      "source": [
        "## Thats it for this week. There are only two questions but they are a bit time consuming so enjoy! I hope you reach atleast 85-90% on Kaggle before tapping into Deep Learning"
      ],
      "execution_count": null,
      "outputs": []
    }
  ]
}
